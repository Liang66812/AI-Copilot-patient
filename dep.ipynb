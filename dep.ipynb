{
 "cells": [
  {
   "cell_type": "code",
   "execution_count": null,
   "metadata": {},
   "outputs": [],
   "source": [
    "from sentence_transformers import SentenceTransformer, util\n",
    "\n",
    "# 加载预训练模型\n",
    "model = SentenceTransformer('/data/liangyunfei/chinese-roberta-wwm-ext')\n"
   ]
  },
  {
   "cell_type": "code",
   "execution_count": null,
   "metadata": {},
   "outputs": [],
   "source": [
    "# 定义两个文本\n",
    "text1 = [\"你是一个好人\", 'dsadsadsa']\n",
    "text2 = \"早上好\"\n",
    "\n",
    "# 将文本转换为嵌入向量\n",
    "embeddings1 = model.encode(text1, convert_to_tensor=True)\n",
    "embeddings2 = model.encode(text2, convert_to_tensor=True)\n",
    "\n",
    "# 计算余弦相似度\n",
    "cosine_similarity = util.pytorch_cos_sim(embeddings1, embeddings2)\n",
    "cosine_similarity\n",
    "#print(\"Cosine Similarity:\", cosine_similarity.item())"
   ]
  },
  {
   "cell_type": "code",
   "execution_count": null,
   "metadata": {},
   "outputs": [],
   "source": [
    "# 使用内置的 open() 函数来读取文件\n",
    "file_path = './data/中国糖尿病医学营养治疗指南（2022版）(1).pdf'  # 替换为你的记事本文件路径\n",
    "\n",
    "with open(file_path, 'r', encoding='utf-8') as file:\n",
    "    content_list = file.readlines()\n",
    "content_list = [ele.strip() for ele in content_list if len(ele) > 3]"
   ]
  },
  {
   "cell_type": "code",
   "execution_count": null,
   "metadata": {},
   "outputs": [],
   "source": [
    "file_path = './data/中国糖尿病医学营养治疗指南（2022版）(1).pdf' \n",
    "import fitz  # PyMuPDF\n",
    "\n",
    "def read_pdf1(file_path):\n",
    "    document = fitz.open(file_path)\n",
    "    text = \"\"\n",
    "    print(len(document))\n",
    "    for page_num in range(len(document)):\n",
    "        page = document.load_page(page_num)\n",
    "        text += page.get_text()\n",
    "    return text\n",
    "\n",
    "\n"
   ]
  },
  {
   "cell_type": "code",
   "execution_count": null,
   "metadata": {},
   "outputs": [],
   "source": [
    "document = fitz.open(file_path)\n",
    "text = \"\"\n",
    "print(len(document))\n",
    "for page_num in range(len(document)):\n",
    "    page = document.load_page(page_num)\n",
    "    if page_num < 10:\n",
    "        print(page_num)\n",
    "        print(page)\n",
    "\n",
    "    text += page.get_text()"
   ]
  },
  {
   "cell_type": "code",
   "execution_count": 31,
   "metadata": {},
   "outputs": [
    {
     "name": "stdout",
     "output_type": "stream",
     "text": [
      "1\n",
      "4\n",
      "7\n"
     ]
    }
   ],
   "source": [
    "for i in range(1,10,3):\n",
    "    print(i)"
   ]
  },
  {
   "cell_type": "code",
   "execution_count": null,
   "metadata": {},
   "outputs": [],
   "source": []
  },
  {
   "cell_type": "code",
   "execution_count": null,
   "metadata": {},
   "outputs": [],
   "source": [
    "import PyPDF2\n",
    "\n",
    "def read_pdf2(file_path):\n",
    "    text = \"\"\n",
    "    with open(file_path, \"rb\") as file:\n",
    "        reader = PyPDF2.PdfReader(file)\n",
    "        num_pages = len(reader.pages)\n",
    "        for page_num in range(num_pages):\n",
    "            page = reader.pages[page_num]\n",
    "            text += page.extract_text() + \"\\n\"\n",
    "    return text\n",
    "\n"
   ]
  },
  {
   "cell_type": "code",
   "execution_count": null,
   "metadata": {},
   "outputs": [],
   "source": [
    "import pdfplumber\n",
    "\n",
    "def read_pdf3(file_path):\n",
    "    text = \"\"\n",
    "    with pdfplumber.open(file_path) as pdf:\n",
    "        for page in pdf.pages:\n",
    "            text += page.extract_text() + \"\\n\"\n",
    "    return text\n",
    "\n",
    "\n"
   ]
  },
  {
   "cell_type": "code",
   "execution_count": null,
   "metadata": {},
   "outputs": [],
   "source": [
    "read_pdf1(file_path)"
   ]
  },
  {
   "cell_type": "code",
   "execution_count": null,
   "metadata": {},
   "outputs": [],
   "source": [
    "print(read_pdf2(file_path))"
   ]
  },
  {
   "cell_type": "code",
   "execution_count": null,
   "metadata": {},
   "outputs": [],
   "source": [
    "print(read_pdf3(file_path))"
   ]
  },
  {
   "cell_type": "code",
   "execution_count": null,
   "metadata": {},
   "outputs": [],
   "source": [
    "import chardet\n",
    "\n",
    "with open('./data/中国2型糖尿病防治指南（2020年版）.html', 'rb') as f:\n",
    "    raw_data = f.read()\n",
    "    result = chardet.detect(raw_data)\n",
    "    encoding = result['encoding']\n",
    "    print(f\"Detected encoding: {encoding}\")\n"
   ]
  },
  {
   "cell_type": "code",
   "execution_count": null,
   "metadata": {},
   "outputs": [],
   "source": [
    "from bs4 import BeautifulSoup\n",
    "\n",
    "#用本地html文件创建soup对象\n",
    "#soup = BeautifulSoup(open('index.html'))\n",
    "soup = BeautifulSoup(open('./data/中国2型糖尿病防治指南（2020年版）.html',encoding='GB2312', errors='ignore'),features='html.parser')  #features值可为lxml\n",
    "#可使用str函数将信息转换为字符串信息，方便使用re正则进行处理\n",
    "html = str(soup)\n"
   ]
  },
  {
   "cell_type": "code",
   "execution_count": null,
   "metadata": {},
   "outputs": [],
   "source": [
    "from bs4 import BeautifulSoup\n",
    "\n",
    "with open('./data/中国2型糖尿病防治指南（2020年版）.html', 'r', encoding='GB2312', errors='ignore') as file:\n",
    "    html = file.read()\n",
    "\n",
    "#soup = BeautifulSoup(html,\"html.parser\")\n",
    "#soup = BeautifulSoup(html,\"lxml\")\n",
    "#soup = BeautifulSoup(html,\"xml\")\n",
    "soup = BeautifulSoup(html,\"html5lib\")\n",
    "print(soup.prettify())\n"
   ]
  },
  {
   "cell_type": "code",
   "execution_count": null,
   "metadata": {},
   "outputs": [],
   "source": [
    "import re\n",
    "\n",
    "pattern = re._compile('<div class=\"title\">.*?<h2>(.*?)</h2>.*?时间：(.*?)</div>.*?id=\"detail-p\"><p>(.*?)</p><p>　　来源：(.*?)</p></div>',re.S)\n",
    "content_list = pattern.findall(html)\n",
    "content_list\n",
    "\n",
    "#自定义函数[(),()]格式批量写入csv文件\n",
    "import csv\n",
    "\n",
    "def save_content(content_list):\n",
    "    with open('../content.csv','a',encoding='gbk',newline='',errors='ignore') as f:\n",
    "        writer = csv.writer(f)\n",
    "        writer.writerows(content_list)\n",
    "        \n",
    "#写入csv文件\n",
    "save_content(content_list)\n"
   ]
  },
  {
   "cell_type": "code",
   "execution_count": null,
   "metadata": {},
   "outputs": [],
   "source": [
    "content_list"
   ]
  },
  {
   "cell_type": "code",
   "execution_count": null,
   "metadata": {},
   "outputs": [],
   "source": [
    "with open('./data/中国2型糖尿病防治指南（2020年版）.html', 'r', errors='ignore') as file:\n",
    "    html_content = file.read()\n",
    "print(html_content)"
   ]
  },
  {
   "cell_type": "code",
   "execution_count": null,
   "metadata": {},
   "outputs": [],
   "source": []
  }
 ],
 "metadata": {
  "kernelspec": {
   "display_name": "Python 3",
   "language": "python",
   "name": "python3"
  },
  "language_info": {
   "codemirror_mode": {
    "name": "ipython",
    "version": 3
   },
   "file_extension": ".py",
   "mimetype": "text/x-python",
   "name": "python",
   "nbconvert_exporter": "python",
   "pygments_lexer": "ipython3",
   "version": "3.10.0"
  }
 },
 "nbformat": 4,
 "nbformat_minor": 2
}
