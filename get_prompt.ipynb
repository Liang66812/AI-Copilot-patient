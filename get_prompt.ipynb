{
 "cells": [
  {
   "cell_type": "code",
   "execution_count": null,
   "metadata": {},
   "outputs": [],
   "source": [
    "\n",
    "import os\n",
    "os.environ['CUDA_LAUNCH_BLOCKING'] = '0'\n",
    "os.environ['CUDA_VISIBLE_DEVICES'] = '2,3'\n",
    "import torch\n",
    "\n",
    "# 确保PyTorch能够检测到GPU"
   ]
  },
  {
   "cell_type": "code",
   "execution_count": 2,
   "metadata": {},
   "outputs": [
    {
     "name": "stderr",
     "output_type": "stream",
     "text": [
      "/data/liangyunfei/miniconda3/envs/qwen/lib/python3.10/site-packages/onnxscript/converter.py:820: FutureWarning: 'onnxscript.values.Op.param_schemas' is deprecated in version 0.1 and will be removed in the future. Please use '.op_signature' instead.\n",
      "  param_schemas = callee.param_schemas()\n",
      "/data/liangyunfei/miniconda3/envs/qwen/lib/python3.10/site-packages/onnxscript/converter.py:820: FutureWarning: 'onnxscript.values.OnnxFunction.param_schemas' is deprecated in version 0.1 and will be removed in the future. Please use '.op_signature' instead.\n",
      "  param_schemas = callee.param_schemas()\n"
     ]
    }
   ],
   "source": [
    "\n",
    "import json\n",
    "import time\n",
    "import re\n",
    "import itertools\n",
    "import numpy as np\n",
    "import pandas as pd\n",
    "import datetime as DT\n",
    "from tqdm import tqdm\n",
    "from datetime import datetime\n",
    "from scipy.optimize import curve_fit\n",
    "from transformers import AutoModelForCausalLM, AutoTokenizer\n",
    "from sentence_transformers import SentenceTransformer"
   ]
  },
  {
   "cell_type": "code",
   "execution_count": 3,
   "metadata": {},
   "outputs": [
    {
     "data": {
      "application/vnd.jupyter.widget-view+json": {
       "model_id": "2162ba5850564c7090711f765f2f4e8a",
       "version_major": 2,
       "version_minor": 0
      },
      "text/plain": [
       "Loading checkpoint shards:   0%|          | 0/11 [00:00<?, ?it/s]"
      ]
     },
     "metadata": {},
     "output_type": "display_data"
    }
   ],
   "source": [
    "\n",
    "# Load pretrained LLM\n",
    "QWEN2d5_7B_INST = \"/data/liangyunfei/Qwen2.5-7B-Instruct\"\n",
    "QWEN2d5_32B_INST_AWQ = \"/home/peizhengqi/Qwen/Qwen2.5-32B-Instruct-AWQ\"\n",
    "QWEN2d5_72B_INST_AWQ = \"/data/liangyunfei/Qwen2.5-72B-Instruct-AWQ\"\n",
    "\n",
    "#model_7Bn = AutoModelForCausalLM.from_pretrained(QWEN2d5_7B_INST, device_map=\"auto\")\n",
    "#tokenizer_7Bn = AutoTokenizer.from_pretrained(QWEN2d5_7B_INST, device_map=\"auto\")\n",
    "\n",
    "model_32Bn = AutoModelForCausalLM.from_pretrained(QWEN2d5_72B_INST_AWQ, device_map=\"auto\")\n",
    "tokenizer_32Bn = AutoTokenizer.from_pretrained(QWEN2d5_72B_INST_AWQ, device_map=\"auto\")\n",
    "\n"
   ]
  },
  {
   "cell_type": "code",
   "execution_count": 4,
   "metadata": {},
   "outputs": [
    {
     "data": {
      "application/vnd.jupyter.widget-view+json": {
       "model_id": "e8aa751ee65a495c82fd7bc578300996",
       "version_major": 2,
       "version_minor": 0
      },
      "text/plain": [
       "Loading checkpoint shards:   0%|          | 0/4 [00:00<?, ?it/s]"
      ]
     },
     "metadata": {},
     "output_type": "display_data"
    }
   ],
   "source": [
    "model = AutoModelForCausalLM.from_pretrained(QWEN2d5_7B_INST, device_map=\"auto\")\n",
    "tokenizer = AutoTokenizer.from_pretrained(QWEN2d5_7B_INST, device_map=\"auto\")"
   ]
  },
  {
   "cell_type": "code",
   "execution_count": 5,
   "metadata": {},
   "outputs": [],
   "source": [
    "\n",
    "from transformers import TextStreamer\n",
    "\n",
    "streamer = TextStreamer(tokenizer_32Bn, skip_prompt=True, skip_special_tokens=True)"
   ]
  },
  {
   "cell_type": "code",
   "execution_count": 6,
   "metadata": {},
   "outputs": [],
   "source": [
    "import json\n",
    "with open('../饮食与营养管理.json', 'r') as file:\n",
    "    rule_list = json.load(file)"
   ]
  },
  {
   "cell_type": "code",
   "execution_count": 7,
   "metadata": {},
   "outputs": [
    {
     "data": {
      "text/plain": [
       "'医生: 请问下午加餐了吗？'"
      ]
     },
     "execution_count": 7,
     "metadata": {},
     "output_type": "execute_result"
    }
   ],
   "source": [
    "rule_list[10]['messages'][1][24:]"
   ]
  },
  {
   "cell_type": "code",
   "execution_count": null,
   "metadata": {},
   "outputs": [],
   "source": []
  },
  {
   "cell_type": "code",
   "execution_count": 8,
   "metadata": {},
   "outputs": [
    {
     "data": {
      "text/plain": [
       "24"
      ]
     },
     "execution_count": 8,
     "metadata": {},
     "output_type": "execute_result"
    }
   ],
   "source": [
    "len('2023-02-02 20:08:12.341 ')"
   ]
  },
  {
   "cell_type": "code",
   "execution_count": 11,
   "metadata": {},
   "outputs": [],
   "source": [
    "\n",
    "sys_prompt1 = \"\"\"\n",
    "    You are a helpful, respectful and honest assistant. \n",
    "    Always answer as helpfully as possible, while being safe. \n",
    "    Your answers should not include any harmful, unethical, racist, sexist, toxic, dangerous, or illegal content. \n",
    "    Please ensure that your responses are socially unbiased and positive in nature.\n",
    "    If you don't know the answer to a question, please don't share false information.\n",
    "\"\"\"\n",
    "sys_prompt1 = '你是一个非常专业的糖尿病患者照护师,判断对方的意图，如果是低血糖和高血糖如何处理的问题，你需要知道对方的血糖值和所处的时间点（早餐前、早餐后、午餐前、午餐后、晚餐前、晚餐后、餐间时刻），否则正常进行对话'\n",
    "\n",
    "def message_to_response_via_LLM(model, tokenizer, messages, max_new_tokens=256):\n",
    "\n",
    "    text = tokenizer.apply_chat_template(messages, tokenize=False, add_generation_prompt=True)\n",
    "    model_inputs = tokenizer([text], return_tensors=\"pt\").to(model.device)\n",
    "    generated_ids = model.generate(model_inputs.input_ids, max_new_tokens=max_new_tokens, do_sample=True, temperature=0.01, streamer=streamer)\n",
    "    generated_ids = [output_ids[len(input_ids):] for input_ids, output_ids in zip(model_inputs.input_ids, generated_ids)]\n",
    "    response = tokenizer.batch_decode(generated_ids, skip_special_tokens=True)[0]\n",
    "\n",
    "    return response\n",
    "def message_to_response_no_stream(model, tokenizer, messages, max_new_tokens=256):\n",
    "\n",
    "    text = tokenizer.apply_chat_template(messages, tokenize=False, add_generation_prompt=True)\n",
    "    model_inputs = tokenizer([text], return_tensors=\"pt\").to(model.device)\n",
    "    generated_ids = model.generate(model_inputs.input_ids, max_new_tokens=max_new_tokens, do_sample=True, temperature=0.01)\n",
    "    generated_ids = [output_ids[len(input_ids):] for input_ids, output_ids in zip(model_inputs.input_ids, generated_ids)]\n",
    "    response = tokenizer.batch_decode(generated_ids, skip_special_tokens=True)[0]\n",
    "\n",
    "    return response"
   ]
  },
  {
   "cell_type": "code",
   "execution_count": 10,
   "metadata": {},
   "outputs": [
    {
     "ename": "NameError",
     "evalue": "name 'query_prompt' is not defined",
     "output_type": "error",
     "traceback": [
      "\u001b[0;31m---------------------------------------------------------------------------\u001b[0m",
      "\u001b[0;31mNameError\u001b[0m                                 Traceback (most recent call last)",
      "Cell \u001b[0;32mIn[10], line 5\u001b[0m\n\u001b[1;32m      1\u001b[0m format_prompt \u001b[38;5;241m=\u001b[39m \u001b[38;5;124m\"\u001b[39m\u001b[38;5;124m\"\u001b[39m\n\u001b[1;32m      2\u001b[0m res_messages \u001b[38;5;241m=\u001b[39m [\n\u001b[1;32m      3\u001b[0m         \n\u001b[1;32m      4\u001b[0m         {\u001b[38;5;124m\"\u001b[39m\u001b[38;5;124mrole\u001b[39m\u001b[38;5;124m\"\u001b[39m: \u001b[38;5;124m\"\u001b[39m\u001b[38;5;124msystem\u001b[39m\u001b[38;5;124m\"\u001b[39m, \u001b[38;5;124m\"\u001b[39m\u001b[38;5;124mcontent\u001b[39m\u001b[38;5;124m\"\u001b[39m: sys_prompt1},\n\u001b[0;32m----> 5\u001b[0m         {\u001b[38;5;124m\"\u001b[39m\u001b[38;5;124mrole\u001b[39m\u001b[38;5;124m\"\u001b[39m: \u001b[38;5;124m\"\u001b[39m\u001b[38;5;124muser\u001b[39m\u001b[38;5;124m\"\u001b[39m, \u001b[38;5;124m\"\u001b[39m\u001b[38;5;124mcontent\u001b[39m\u001b[38;5;124m\"\u001b[39m: \u001b[43mquery_prompt\u001b[49m}\n\u001b[1;32m      6\u001b[0m     ]\n\u001b[1;32m      7\u001b[0m answer \u001b[38;5;241m=\u001b[39m \u001b[38;5;124m'\u001b[39m\u001b[38;5;124m'\u001b[39m\n\u001b[1;32m      8\u001b[0m \u001b[38;5;28;01mwhile\u001b[39;00m \u001b[38;5;28;01mTrue\u001b[39;00m:\n",
      "\u001b[0;31mNameError\u001b[0m: name 'query_prompt' is not defined"
     ]
    }
   ],
   "source": [
    "format_prompt = \"\"\n",
    "res_messages = [\n",
    "        \n",
    "        {\"role\": \"system\", \"content\": sys_prompt1},\n",
    "        {\"role\": \"user\", \"content\": query_prompt}\n",
    "    ]\n",
    "answer = ''\n",
    "while True:\n",
    "    \n",
    "    query_prompt = input()#input()#\"我吃的是咖喱饭\"\n",
    "    print(query_prompt)\n",
    "    res_messages.append({\"role\": \"system\", \"content\": answer})\n",
    "    res_messages.append({\"role\": \"system\", \"content\": query_prompt})\n",
    "    answer = message_to_response_via_LLM(model_32Bn, tokenizer_32Bn, res_messages, max_new_tokens=1000)"
   ]
  },
  {
   "cell_type": "code",
   "execution_count": null,
   "metadata": {},
   "outputs": [],
   "source": [
    "len(set(rule_list))"
   ]
  },
  {
   "cell_type": "code",
   "execution_count": null,
   "metadata": {},
   "outputs": [],
   "source": [
    "filter_list = list(set(filter_list))"
   ]
  },
  {
   "cell_type": "code",
   "execution_count": null,
   "metadata": {},
   "outputs": [],
   "source": [
    "filter_list"
   ]
  },
  {
   "cell_type": "code",
   "execution_count": null,
   "metadata": {},
   "outputs": [],
   "source": [
    "len(filter_list)"
   ]
  },
  {
   "cell_type": "code",
   "execution_count": null,
   "metadata": {},
   "outputs": [],
   "source": [
    "get_KB_list(output_food.split('，'))"
   ]
  },
  {
   "cell_type": "code",
   "execution_count": null,
   "metadata": {},
   "outputs": [],
   "source": [
    "print('患者：')\n",
    "query_prompt = '血糖低了怎么办'\n",
    "print(query_prompt, '\\n')\n",
    "print('医生：')\n",
    "format_prompt = f\"从给定list中输出相关的部分，并换行分开,不要输出重复的东西\"\n",
    "filter_list = []\n",
    "for  i in range(0, len(rule_list), 500):\n",
    "    print(i)\n",
    "    res_messages = [\n",
    "        {\"role\": \"system\", \"content\": sys_prompt1},\n",
    "        {\"role\": \"user\", \"content\": \"给定一个饮食list：\" + '\\n'.join(rule_list[i:i+500])}, #+'\\n'.join(get_KB_list(output_food.split('，')))\n",
    "        {\"role\": \"user\", \"content\": query_prompt + format_prompt}\n",
    "    ]\n",
    "    llm_response = message_to_response_via_LLM(model_32Bn, tokenizer_32Bn, res_messages, max_new_tokens=1000)\n",
    "    filter_list += llm_response.split('\\n')\n",
    "filter_list = list(set(filter_list))"
   ]
  },
  {
   "cell_type": "code",
   "execution_count": null,
   "metadata": {},
   "outputs": [],
   "source": [
    "llm_response"
   ]
  },
  {
   "cell_type": "code",
   "execution_count": null,
   "metadata": {},
   "outputs": [],
   "source": [
    "\n",
    "query_prompt = '对于糖尿病患者，鸡蛋一天应该吃几个，简短的告诉我'#input()#\"我吃的是咖喱饭\"\n",
    "print('患者：')\n",
    "print(query_prompt)\n",
    "print('医生：')\n",
    "\n",
    "bg_prompt = \"已知今天的日期是：{}，北京时间。\".format(time.asctime(time.localtime()))\n",
    "format_prompt = \" \"\n",
    "\n",
    "\n",
    "res_messages = [\n",
    "    {\"role\": \"system\", \"content\": sys_prompt1},\n",
    "    #{\"role\": \"user\", \"content\": \"给定一个每种食物的组成成分和做法list：\"}, #+str(context_list)  +'\\n'.join(caipu_list[:10])\n",
    "    {\"role\": \"user\", \"content\": query_prompt}\n",
    "]\n",
    "llm_response = message_to_response_via_LLM(model_32Bn, tokenizer_32Bn, res_messages, max_new_tokens=1000)"
   ]
  },
  {
   "cell_type": "code",
   "execution_count": null,
   "metadata": {},
   "outputs": [],
   "source": [
    "query_prompt = '请问一斤菠菜和一斤菠萝分别含有多少能量、蛋白质、糖类、脂肪'#input()#\"我吃的是咖喱饭\"\n",
    "print('患者：')\n",
    "print(query_prompt)\n",
    "print('医生：')\n",
    "\n",
    "bg_prompt = \"已知今天的日期是：{}，北京时间。\".format(time.asctime(time.localtime()))\n",
    "format_prompt = \"请严格按照食物组成成分和做法list，简短的回答我，脂肪和蛋白质不要算错了\"\n",
    "\n",
    "\n",
    "res_messages = [\n",
    "    {\"role\": \"system\", \"content\": sys_prompt1},\n",
    "    {\"role\": \"user\", \"content\": \"给定一个每种食物的组成成分和做法list：\" +'\\n'.join(cost_list[:100])}, #+str(context_list)\n",
    "    {\"role\": \"user\", \"content\": query_prompt+format_prompt}\n",
    "]\n",
    "llm_response = message_to_response_via_LLM(model_32Bn, tokenizer_32Bn, res_messages, max_new_tokens=1000)"
   ]
  },
  {
   "cell_type": "code",
   "execution_count": null,
   "metadata": {},
   "outputs": [
    {
     "data": {
      "text/plain": [
       "'[{\"userid\": \"123\"}, {\"userid\": \"124\"}, {\"userid\": \"789\"}]'"
      ]
     },
     "execution_count": 2,
     "metadata": {},
     "output_type": "execute_result"
    }
   ],
   "source": [
    "import json\n",
    "postdata = json.dumps([{\"userid\":\"123\"}, {\"userid\":\"124\"}, {\"userid\":\"789\"}])\n"
   ]
  },
  {
   "cell_type": "code",
   "execution_count": 4,
   "metadata": {},
   "outputs": [
    {
     "data": {
      "text/plain": [
       "[{'userid': '123'}, {'userid': '124'}, {'userid': '789'}]"
      ]
     },
     "execution_count": 4,
     "metadata": {},
     "output_type": "execute_result"
    }
   ],
   "source": [
    "json.loads(postdata)"
   ]
  },
  {
   "cell_type": "code",
   "execution_count": null,
   "metadata": {},
   "outputs": [
    {
     "data": {
      "image/png": "[encoded data removed]",
      "text/plain": [
       "<Figure size 640x480 with 1 Axes>"
      ]
     },
     "metadata": {},
     "output_type": "display_data"
    }
   ],
   "source": [
    "import matplotlib.pyplot as plt\n",
    "\n",
    "# 定义点的坐标\n",
    "x = [1, 0.3]\n",
    "y = [2, 0.4]\n",
    "\n",
    "# 创建散点图\n",
    "plt.scatter(x, y)\n",
    "\n",
    "# 添加标题和标签\n",
    "plt.title('Scatter Plot')\n",
    "plt.xlabel('X-axis')\n",
    "plt.ylabel('Y-axis')\n",
    "\n",
    "# 显示图形\n",
    "plt.show()\n"
   ]
  },
  {
   "cell_type": "code",
   "execution_count": 5,
   "metadata": {},
   "outputs": [
    {
     "data": {
      "image/png": "[encoded data removed]",
      "text/plain": [
       "<Figure size 640x480 with 1 Axes>"
      ]
     },
     "metadata": {},
     "output_type": "display_data"
    }
   ],
   "source": [
    "import matplotlib.pyplot as plt\n",
    "\n",
    "# 定义点的坐标\n",
    "points = [(0.1, 0.2), (0.3, 0.4), (0.5, 0.6)]\n",
    "\n",
    "# 创建散点图\n",
    "x, y = zip(*points)  # 解压列表中的元组\n",
    "plt.scatter(x, y)\n",
    "\n",
    "# 添加标题和标签\n",
    "plt.title('Scatter Plot with Indexes')\n",
    "plt.xlabel('X-axis')\n",
    "plt.ylabel('Y-axis')\n",
    "\n",
    "# 为每个点添加索引标注\n",
    "for i, (xi, yi) in enumerate(points):\n",
    "    plt.text(xi, yi, str(i), fontsize=12, ha='right')\n",
    "\n",
    "# 显示图形\n",
    "plt.show()\n"
   ]
  },
  {
   "cell_type": "code",
   "execution_count": 3,
   "metadata": {},
   "outputs": [
    {
     "data": {
      "text/plain": [
       "((0.1, 0.3, 0.5), (0.2, 0.4, 0.6))"
      ]
     },
     "execution_count": 3,
     "metadata": {},
     "output_type": "execute_result"
    }
   ],
   "source": [
    "x, y"
   ]
  },
  {
   "cell_type": "code",
   "execution_count": null,
   "metadata": {},
   "outputs": [],
   "source": [
    "similarity.cpu().numpy()"
   ]
  }
 ],
 "metadata": {
  "kernelspec": {
   "display_name": "Python 3",
   "language": "python",
   "name": "python3"
  },
  "language_info": {
   "codemirror_mode": {
    "name": "ipython",
    "version": 3
   },
   "file_extension": ".py",
   "mimetype": "text/x-python",
   "name": "python",
   "nbconvert_exporter": "python",
   "pygments_lexer": "ipython3",
   "version": "3.10.0"
  }
 },
 "nbformat": 4,
 "nbformat_minor": 2
}
