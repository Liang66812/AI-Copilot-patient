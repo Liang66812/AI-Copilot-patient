{
 "cells": [
  {
   "cell_type": "code",
   "execution_count": 1,
   "metadata": {},
   "outputs": [],
   "source": [
    "\n",
    "import os\n",
    "os.environ['CUDA_LAUNCH_BLOCKING'] = '0'\n",
    "os.environ['CUDA_VISIBLE_DEVICES'] = '0,1'\n",
    "import torch\n",
    "\n",
    "# 确保PyTorch能够检测到GPU"
   ]
  },
  {
   "cell_type": "code",
   "execution_count": 2,
   "metadata": {},
   "outputs": [],
   "source": [
    "\n",
    "import json\n",
    "import time\n",
    "import re\n",
    "import itertools\n",
    "import numpy as np\n",
    "import pandas as pd\n",
    "import datetime as DT\n",
    "from tqdm import tqdm\n",
    "from datetime import datetime\n",
    "from scipy.optimize import curve_fit\n",
    "from transformers import AutoModelForCausalLM, AutoTokenizer\n",
    "from sentence_transformers import SentenceTransformer"
   ]
  },
  {
   "cell_type": "code",
   "execution_count": null,
   "metadata": {},
   "outputs": [],
   "source": []
  },
  {
   "cell_type": "code",
   "execution_count": 3,
   "metadata": {},
   "outputs": [
    {
     "ename": "OSError",
     "evalue": "Incorrect path_or_model_id: '/home/peizhengqi/Qwen/Qwen2.5-32B-Instruct-AWQ'. Please provide either the path to a local folder or the repo_id of a model on the Hub.",
     "output_type": "error",
     "traceback": [
      "\u001b[0;31m---------------------------------------------------------------------------\u001b[0m",
      "\u001b[0;31mHFValidationError\u001b[0m                         Traceback (most recent call last)",
      "File \u001b[0;32m/data/liangyunfei/miniconda3/envs/qwen/lib/python3.10/site-packages/transformers/utils/hub.py:403\u001b[0m, in \u001b[0;36mcached_file\u001b[0;34m(path_or_repo_id, filename, cache_dir, force_download, resume_download, proxies, token, revision, local_files_only, subfolder, repo_type, user_agent, _raise_exceptions_for_gated_repo, _raise_exceptions_for_missing_entries, _raise_exceptions_for_connection_errors, _commit_hash, **deprecated_kwargs)\u001b[0m\n\u001b[1;32m    401\u001b[0m \u001b[38;5;28;01mtry\u001b[39;00m:\n\u001b[1;32m    402\u001b[0m     \u001b[38;5;66;03m# Load from URL or cache if already cached\u001b[39;00m\n\u001b[0;32m--> 403\u001b[0m     resolved_file \u001b[38;5;241m=\u001b[39m \u001b[43mhf_hub_download\u001b[49m\u001b[43m(\u001b[49m\n\u001b[1;32m    404\u001b[0m \u001b[43m        \u001b[49m\u001b[43mpath_or_repo_id\u001b[49m\u001b[43m,\u001b[49m\n\u001b[1;32m    405\u001b[0m \u001b[43m        \u001b[49m\u001b[43mfilename\u001b[49m\u001b[43m,\u001b[49m\n\u001b[1;32m    406\u001b[0m \u001b[43m        \u001b[49m\u001b[43msubfolder\u001b[49m\u001b[38;5;241;43m=\u001b[39;49m\u001b[38;5;28;43;01mNone\u001b[39;49;00m\u001b[43m \u001b[49m\u001b[38;5;28;43;01mif\u001b[39;49;00m\u001b[43m \u001b[49m\u001b[38;5;28;43mlen\u001b[39;49m\u001b[43m(\u001b[49m\u001b[43msubfolder\u001b[49m\u001b[43m)\u001b[49m\u001b[43m \u001b[49m\u001b[38;5;241;43m==\u001b[39;49m\u001b[43m \u001b[49m\u001b[38;5;241;43m0\u001b[39;49m\u001b[43m \u001b[49m\u001b[38;5;28;43;01melse\u001b[39;49;00m\u001b[43m \u001b[49m\u001b[43msubfolder\u001b[49m\u001b[43m,\u001b[49m\n\u001b[1;32m    407\u001b[0m \u001b[43m        \u001b[49m\u001b[43mrepo_type\u001b[49m\u001b[38;5;241;43m=\u001b[39;49m\u001b[43mrepo_type\u001b[49m\u001b[43m,\u001b[49m\n\u001b[1;32m    408\u001b[0m \u001b[43m        \u001b[49m\u001b[43mrevision\u001b[49m\u001b[38;5;241;43m=\u001b[39;49m\u001b[43mrevision\u001b[49m\u001b[43m,\u001b[49m\n\u001b[1;32m    409\u001b[0m \u001b[43m        \u001b[49m\u001b[43mcache_dir\u001b[49m\u001b[38;5;241;43m=\u001b[39;49m\u001b[43mcache_dir\u001b[49m\u001b[43m,\u001b[49m\n\u001b[1;32m    410\u001b[0m \u001b[43m        \u001b[49m\u001b[43muser_agent\u001b[49m\u001b[38;5;241;43m=\u001b[39;49m\u001b[43muser_agent\u001b[49m\u001b[43m,\u001b[49m\n\u001b[1;32m    411\u001b[0m \u001b[43m        \u001b[49m\u001b[43mforce_download\u001b[49m\u001b[38;5;241;43m=\u001b[39;49m\u001b[43mforce_download\u001b[49m\u001b[43m,\u001b[49m\n\u001b[1;32m    412\u001b[0m \u001b[43m        \u001b[49m\u001b[43mproxies\u001b[49m\u001b[38;5;241;43m=\u001b[39;49m\u001b[43mproxies\u001b[49m\u001b[43m,\u001b[49m\n\u001b[1;32m    413\u001b[0m \u001b[43m        \u001b[49m\u001b[43mresume_download\u001b[49m\u001b[38;5;241;43m=\u001b[39;49m\u001b[43mresume_download\u001b[49m\u001b[43m,\u001b[49m\n\u001b[1;32m    414\u001b[0m \u001b[43m        \u001b[49m\u001b[43mtoken\u001b[49m\u001b[38;5;241;43m=\u001b[39;49m\u001b[43mtoken\u001b[49m\u001b[43m,\u001b[49m\n\u001b[1;32m    415\u001b[0m \u001b[43m        \u001b[49m\u001b[43mlocal_files_only\u001b[49m\u001b[38;5;241;43m=\u001b[39;49m\u001b[43mlocal_files_only\u001b[49m\u001b[43m,\u001b[49m\n\u001b[1;32m    416\u001b[0m \u001b[43m    \u001b[49m\u001b[43m)\u001b[49m\n\u001b[1;32m    417\u001b[0m \u001b[38;5;28;01mexcept\u001b[39;00m GatedRepoError \u001b[38;5;28;01mas\u001b[39;00m e:\n",
      "File \u001b[0;32m/data/liangyunfei/miniconda3/envs/qwen/lib/python3.10/site-packages/huggingface_hub/utils/_validators.py:106\u001b[0m, in \u001b[0;36mvalidate_hf_hub_args.<locals>._inner_fn\u001b[0;34m(*args, **kwargs)\u001b[0m\n\u001b[1;32m    105\u001b[0m \u001b[38;5;28;01mif\u001b[39;00m arg_name \u001b[38;5;129;01min\u001b[39;00m [\u001b[38;5;124m\"\u001b[39m\u001b[38;5;124mrepo_id\u001b[39m\u001b[38;5;124m\"\u001b[39m, \u001b[38;5;124m\"\u001b[39m\u001b[38;5;124mfrom_id\u001b[39m\u001b[38;5;124m\"\u001b[39m, \u001b[38;5;124m\"\u001b[39m\u001b[38;5;124mto_id\u001b[39m\u001b[38;5;124m\"\u001b[39m]:\n\u001b[0;32m--> 106\u001b[0m     \u001b[43mvalidate_repo_id\u001b[49m\u001b[43m(\u001b[49m\u001b[43marg_value\u001b[49m\u001b[43m)\u001b[49m\n\u001b[1;32m    108\u001b[0m \u001b[38;5;28;01melif\u001b[39;00m arg_name \u001b[38;5;241m==\u001b[39m \u001b[38;5;124m\"\u001b[39m\u001b[38;5;124mtoken\u001b[39m\u001b[38;5;124m\"\u001b[39m \u001b[38;5;129;01mand\u001b[39;00m arg_value \u001b[38;5;129;01mis\u001b[39;00m \u001b[38;5;129;01mnot\u001b[39;00m \u001b[38;5;28;01mNone\u001b[39;00m:\n",
      "File \u001b[0;32m/data/liangyunfei/miniconda3/envs/qwen/lib/python3.10/site-packages/huggingface_hub/utils/_validators.py:154\u001b[0m, in \u001b[0;36mvalidate_repo_id\u001b[0;34m(repo_id)\u001b[0m\n\u001b[1;32m    153\u001b[0m \u001b[38;5;28;01mif\u001b[39;00m repo_id\u001b[38;5;241m.\u001b[39mcount(\u001b[38;5;124m\"\u001b[39m\u001b[38;5;124m/\u001b[39m\u001b[38;5;124m\"\u001b[39m) \u001b[38;5;241m>\u001b[39m \u001b[38;5;241m1\u001b[39m:\n\u001b[0;32m--> 154\u001b[0m     \u001b[38;5;28;01mraise\u001b[39;00m HFValidationError(\n\u001b[1;32m    155\u001b[0m         \u001b[38;5;124m\"\u001b[39m\u001b[38;5;124mRepo id must be in the form \u001b[39m\u001b[38;5;124m'\u001b[39m\u001b[38;5;124mrepo_name\u001b[39m\u001b[38;5;124m'\u001b[39m\u001b[38;5;124m or \u001b[39m\u001b[38;5;124m'\u001b[39m\u001b[38;5;124mnamespace/repo_name\u001b[39m\u001b[38;5;124m'\u001b[39m\u001b[38;5;124m:\u001b[39m\u001b[38;5;124m\"\u001b[39m\n\u001b[1;32m    156\u001b[0m         \u001b[38;5;124mf\u001b[39m\u001b[38;5;124m\"\u001b[39m\u001b[38;5;124m \u001b[39m\u001b[38;5;124m'\u001b[39m\u001b[38;5;132;01m{\u001b[39;00mrepo_id\u001b[38;5;132;01m}\u001b[39;00m\u001b[38;5;124m'\u001b[39m\u001b[38;5;124m. Use `repo_type` argument if needed.\u001b[39m\u001b[38;5;124m\"\u001b[39m\n\u001b[1;32m    157\u001b[0m     )\n\u001b[1;32m    159\u001b[0m \u001b[38;5;28;01mif\u001b[39;00m \u001b[38;5;129;01mnot\u001b[39;00m REPO_ID_REGEX\u001b[38;5;241m.\u001b[39mmatch(repo_id):\n",
      "\u001b[0;31mHFValidationError\u001b[0m: Repo id must be in the form 'repo_name' or 'namespace/repo_name': '/home/peizhengqi/Qwen/Qwen2.5-32B-Instruct-AWQ'. Use `repo_type` argument if needed.",
      "\nThe above exception was the direct cause of the following exception:\n",
      "\u001b[0;31mOSError\u001b[0m                                   Traceback (most recent call last)",
      "Cell \u001b[0;32mIn[3], line 9\u001b[0m\n\u001b[1;32m      4\u001b[0m QWEN2d5_72B_INST_AWQ \u001b[38;5;241m=\u001b[39m \u001b[38;5;124m\"\u001b[39m\u001b[38;5;124m/home/peizhengqi/Qwen/Qwen2.5-72B-Instruct-AWQ\u001b[39m\u001b[38;5;124m\"\u001b[39m\n\u001b[1;32m      6\u001b[0m \u001b[38;5;66;03m#model_7Bn = AutoModelForCausalLM.from_pretrained(QWEN2d5_7B_INST, device_map=\"auto\")\u001b[39;00m\n\u001b[1;32m      7\u001b[0m \u001b[38;5;66;03m#tokenizer_7Bn = AutoTokenizer.from_pretrained(QWEN2d5_7B_INST, device_map=\"auto\")\u001b[39;00m\n\u001b[0;32m----> 9\u001b[0m model_32Bn \u001b[38;5;241m=\u001b[39m \u001b[43mAutoModelForCausalLM\u001b[49m\u001b[38;5;241;43m.\u001b[39;49m\u001b[43mfrom_pretrained\u001b[49m\u001b[43m(\u001b[49m\u001b[43mQWEN2d5_32B_INST_AWQ\u001b[49m\u001b[43m,\u001b[49m\u001b[43m \u001b[49m\u001b[43mdevice_map\u001b[49m\u001b[38;5;241;43m=\u001b[39;49m\u001b[38;5;124;43m\"\u001b[39;49m\u001b[38;5;124;43mauto\u001b[39;49m\u001b[38;5;124;43m\"\u001b[39;49m\u001b[43m)\u001b[49m\n\u001b[1;32m     10\u001b[0m tokenizer_32Bn \u001b[38;5;241m=\u001b[39m AutoTokenizer\u001b[38;5;241m.\u001b[39mfrom_pretrained(QWEN2d5_32B_INST_AWQ, device_map\u001b[38;5;241m=\u001b[39m\u001b[38;5;124m\"\u001b[39m\u001b[38;5;124mauto\u001b[39m\u001b[38;5;124m\"\u001b[39m)\n\u001b[1;32m     12\u001b[0m \u001b[38;5;66;03m#model_72Bn = AutoModelForCausalLM.from_pretrained(QWEN2d5_72B_INST_AWQ, device_map=\"auto\")\u001b[39;00m\n\u001b[1;32m     13\u001b[0m \u001b[38;5;66;03m#tokenizer_72Bn = AutoTokenizer.from_pretrained(QWEN2d5_72B_INST_AWQ, device_map=\"auto\")\u001b[39;00m\n",
      "File \u001b[0;32m/data/liangyunfei/miniconda3/envs/qwen/lib/python3.10/site-packages/transformers/models/auto/auto_factory.py:487\u001b[0m, in \u001b[0;36m_BaseAutoModelClass.from_pretrained\u001b[0;34m(cls, pretrained_model_name_or_path, *model_args, **kwargs)\u001b[0m\n\u001b[1;32m    484\u001b[0m \u001b[38;5;28;01mif\u001b[39;00m commit_hash \u001b[38;5;129;01mis\u001b[39;00m \u001b[38;5;28;01mNone\u001b[39;00m:\n\u001b[1;32m    485\u001b[0m     \u001b[38;5;28;01mif\u001b[39;00m \u001b[38;5;129;01mnot\u001b[39;00m \u001b[38;5;28misinstance\u001b[39m(config, PretrainedConfig):\n\u001b[1;32m    486\u001b[0m         \u001b[38;5;66;03m# We make a call to the config file first (which may be absent) to get the commit hash as soon as possible\u001b[39;00m\n\u001b[0;32m--> 487\u001b[0m         resolved_config_file \u001b[38;5;241m=\u001b[39m \u001b[43mcached_file\u001b[49m\u001b[43m(\u001b[49m\n\u001b[1;32m    488\u001b[0m \u001b[43m            \u001b[49m\u001b[43mpretrained_model_name_or_path\u001b[49m\u001b[43m,\u001b[49m\n\u001b[1;32m    489\u001b[0m \u001b[43m            \u001b[49m\u001b[43mCONFIG_NAME\u001b[49m\u001b[43m,\u001b[49m\n\u001b[1;32m    490\u001b[0m \u001b[43m            \u001b[49m\u001b[43m_raise_exceptions_for_gated_repo\u001b[49m\u001b[38;5;241;43m=\u001b[39;49m\u001b[38;5;28;43;01mFalse\u001b[39;49;00m\u001b[43m,\u001b[49m\n\u001b[1;32m    491\u001b[0m \u001b[43m            \u001b[49m\u001b[43m_raise_exceptions_for_missing_entries\u001b[49m\u001b[38;5;241;43m=\u001b[39;49m\u001b[38;5;28;43;01mFalse\u001b[39;49;00m\u001b[43m,\u001b[49m\n\u001b[1;32m    492\u001b[0m \u001b[43m            \u001b[49m\u001b[43m_raise_exceptions_for_connection_errors\u001b[49m\u001b[38;5;241;43m=\u001b[39;49m\u001b[38;5;28;43;01mFalse\u001b[39;49;00m\u001b[43m,\u001b[49m\n\u001b[1;32m    493\u001b[0m \u001b[43m            \u001b[49m\u001b[38;5;241;43m*\u001b[39;49m\u001b[38;5;241;43m*\u001b[39;49m\u001b[43mhub_kwargs\u001b[49m\u001b[43m,\u001b[49m\n\u001b[1;32m    494\u001b[0m \u001b[43m        \u001b[49m\u001b[43m)\u001b[49m\n\u001b[1;32m    495\u001b[0m         commit_hash \u001b[38;5;241m=\u001b[39m extract_commit_hash(resolved_config_file, commit_hash)\n\u001b[1;32m    496\u001b[0m     \u001b[38;5;28;01melse\u001b[39;00m:\n",
      "File \u001b[0;32m/data/liangyunfei/miniconda3/envs/qwen/lib/python3.10/site-packages/transformers/utils/hub.py:469\u001b[0m, in \u001b[0;36mcached_file\u001b[0;34m(path_or_repo_id, filename, cache_dir, force_download, resume_download, proxies, token, revision, local_files_only, subfolder, repo_type, user_agent, _raise_exceptions_for_gated_repo, _raise_exceptions_for_missing_entries, _raise_exceptions_for_connection_errors, _commit_hash, **deprecated_kwargs)\u001b[0m\n\u001b[1;32m    467\u001b[0m     \u001b[38;5;28;01mraise\u001b[39;00m \u001b[38;5;167;01mEnvironmentError\u001b[39;00m(\u001b[38;5;124mf\u001b[39m\u001b[38;5;124m\"\u001b[39m\u001b[38;5;124mThere was a specific connection error when trying to load \u001b[39m\u001b[38;5;132;01m{\u001b[39;00mpath_or_repo_id\u001b[38;5;132;01m}\u001b[39;00m\u001b[38;5;124m:\u001b[39m\u001b[38;5;130;01m\\n\u001b[39;00m\u001b[38;5;132;01m{\u001b[39;00merr\u001b[38;5;132;01m}\u001b[39;00m\u001b[38;5;124m\"\u001b[39m)\n\u001b[1;32m    468\u001b[0m \u001b[38;5;28;01mexcept\u001b[39;00m HFValidationError \u001b[38;5;28;01mas\u001b[39;00m e:\n\u001b[0;32m--> 469\u001b[0m     \u001b[38;5;28;01mraise\u001b[39;00m \u001b[38;5;167;01mEnvironmentError\u001b[39;00m(\n\u001b[1;32m    470\u001b[0m         \u001b[38;5;124mf\u001b[39m\u001b[38;5;124m\"\u001b[39m\u001b[38;5;124mIncorrect path_or_model_id: \u001b[39m\u001b[38;5;124m'\u001b[39m\u001b[38;5;132;01m{\u001b[39;00mpath_or_repo_id\u001b[38;5;132;01m}\u001b[39;00m\u001b[38;5;124m'\u001b[39m\u001b[38;5;124m. Please provide either the path to a local folder or the repo_id of a model on the Hub.\u001b[39m\u001b[38;5;124m\"\u001b[39m\n\u001b[1;32m    471\u001b[0m     ) \u001b[38;5;28;01mfrom\u001b[39;00m \u001b[38;5;21;01me\u001b[39;00m\n\u001b[1;32m    472\u001b[0m \u001b[38;5;28;01mreturn\u001b[39;00m resolved_file\n",
      "\u001b[0;31mOSError\u001b[0m: Incorrect path_or_model_id: '/home/peizhengqi/Qwen/Qwen2.5-32B-Instruct-AWQ'. Please provide either the path to a local folder or the repo_id of a model on the Hub."
     ]
    }
   ],
   "source": [
    "\n",
    "# Load pretrained LLM\n",
    "QWEN2d5_7B_INST = \"/home/peizhengqi/Qwen/Qwen2.5-7B-Instruct-AWQ\"\n",
    "QWEN2d5_32B_INST_AWQ = \"/home/peizhengqi/Qwen/Qwen2.5-32B-Instruct-AWQ\"\n",
    "QWEN2d5_72B_INST_AWQ = \"/home/peizhengqi/Qwen/Qwen2.5-72B-Instruct-AWQ\"\n",
    "\n",
    "#model_7Bn = AutoModelForCausalLM.from_pretrained(QWEN2d5_7B_INST, device_map=\"auto\")\n",
    "#tokenizer_7Bn = AutoTokenizer.from_pretrained(QWEN2d5_7B_INST, device_map=\"auto\")\n",
    "\n",
    "model_32Bn = AutoModelForCausalLM.from_pretrained(QWEN2d5_32B_INST_AWQ, device_map=\"auto\")\n",
    "tokenizer_32Bn = AutoTokenizer.from_pretrained(QWEN2d5_32B_INST_AWQ, device_map=\"auto\")\n",
    "\n",
    "#model_72Bn = AutoModelForCausalLM.from_pretrained(QWEN2d5_72B_INST_AWQ, device_map=\"auto\")\n",
    "#tokenizer_72Bn = AutoTokenizer.from_pretrained(QWEN2d5_72B_INST_AWQ, device_map=\"auto\")"
   ]
  },
  {
   "cell_type": "code",
   "execution_count": null,
   "metadata": {},
   "outputs": [],
   "source": [
    "\n",
    "from transformers import TextStreamer\n",
    "\n",
    "streamer = TextStreamer(tokenizer_32Bn, skip_prompt=True, skip_special_tokens=True)"
   ]
  },
  {
   "cell_type": "code",
   "execution_count": null,
   "metadata": {},
   "outputs": [],
   "source": [
    "\n",
    "sys_prompt1 = \"\"\"\n",
    "    You are a helpful, respectful and honest assistant. \n",
    "    Always answer as helpfully as possible, while being safe. \n",
    "    Your answers should not include any harmful, unethical, racist, sexist, toxic, dangerous, or illegal content. \n",
    "    Please ensure that your responses are socially unbiased and positive in nature.\n",
    "    If you don't know the answer to a question, please don't share false information.\n",
    "\"\"\"\n",
    "\n",
    "\n",
    "def message_to_response_via_LLM(model, tokenizer, messages, max_new_tokens=256):\n",
    "\n",
    "    text = tokenizer.apply_chat_template(messages, tokenize=False, add_generation_prompt=True)\n",
    "    model_inputs = tokenizer([text], return_tensors=\"pt\").to(model.device)\n",
    "\n",
    "    generated_ids = model.generate(model_inputs.input_ids, max_new_tokens=max_new_tokens, do_sample=True, temperature=0.01, streamer=streamer)\n",
    "    generated_ids = [output_ids[len(input_ids):] for input_ids, output_ids in zip(model_inputs.input_ids, generated_ids)]\n",
    "    response = tokenizer.batch_decode(generated_ids, skip_special_tokens=True)[0]\n",
    "\n",
    "    \n",
    "\n",
    "    return response"
   ]
  },
  {
   "cell_type": "code",
   "execution_count": null,
   "metadata": {},
   "outputs": [],
   "source": [
    "\n",
    "query_prompt = \"请根据该组聊天记录对规则模版库的内容进行填充，请将具体内容填充至[]中，得到完整的规则并输出即可，无需解释推导过程。\"\n",
    "query_prompt = \"TAATAAGTTCGATAAGAGATTGAACACCAATGATGATAGGATGATGGAGATGACCCTTCAATAGATATCATCTATATTAAGATATAAAGAAATTAATAAAATATAAATAATAATATAATTTTATGTATCACATTGCACCTAATACTTGTATGAGTTGTATCCAACGCCATGAAACAAAATGTGTCAGATATCAGTTAGATAAGATTCAGTTCAGCAGGCAGGTTGGATAAGAGTATTGCTTATGTATATCTTAAAAGAAAGTTTCCTATTTGACAGAATGTGGGTGTTTTTGTCCACCTAGGAGCTTTTTACCATGTAATCTGACATAGGCTTTATGATCTGCACTAATCTTTTGAAACTTCATTTTGTCACATGTTAATAAGTTGAAAAAGAAAATATTGTTTTAGGAGCTAAAGATGAATAAGCAGCTAAAGGAAAGTTATATAGAATTAGTAGTAAAAGAGAAGAGTGTAAACCTATTTGCTATTTGCTTCAGTACTCAAGTGCTGGTTCCGTTACCAAATTTCAGTGGTTTTGGTTGAATATGTAAGTCAGTGGAAGTGGTGCTGAATAGTGGAGGGAATGTTTGGAGTACATGATTTGAAAAGGGGAGAATGATTAAAAGAAATAGAAAATTGACTGACCAATATTGAAGGTTTCATAGGAATGTTGAATGTTAGTAAATTGGAAAGATGTTACATACCATTCATCTTATTAGAAGCATAACTGTTCCTTTTTGTATATTTTCTGTTACCTTCCTTTCCTTCAAAATATGGCCTTTGAATTTTGAACCATTAACTGAGTTGGTATAGTGGTAAAGTCATGTAGATTTTTGTTTTCGTTTTGTGGGGATATGAATGAGAAAAATCCTTACAACCAGACAAAGCTGTGGCTCAGAAGAAAGAGAAACATGCCTCACTTCTAGAATCACTGGAACTAACATCTTGTAAACAAACTGTTATACCAAACTTTCCTAAGGTGCAATTCTCAACCATTAACCAATTTCATCTCAAACAACACTATCAGTTCTTCAGTCATGAACTTCCCATACTGAAAATTTGTCACCTATTTCTTTTATAGGCAGTGGCTTCTTATGAGAGTCACACTCTCTGAACTTCTAATGTAAAACTTGACTTTTCATTTTGTGCTTTATAATTGTTATCTCATGCATTGCCCTTTTAAGATAAGGTTGTTGTGCATTGTTTGGTTGAGTACAACGATTTACTGATGACCATAACTATTTGTGGATCTTATATTTTCAAAAGTGTATGCTTGGTCATTAATCAACCAAGCTTGATAAGCTCCATCACCTACCATCCCCTTCTATGCCATATACACATTTTGCTTATCTACATTCCTACTGTTACTCTCAAACAAGTCTAACAAATAATAAGTGAAGTTAATGAACTTTTTTAGTAATATTATTATAAGGATTGGTCAATGTAATGGTGAACAGAGAAGCATGCTTTCAGCTACCCAACAAAATGGATAAGAGTGTCAGTTGATATGGTTCTCTTGTTTTTTTTTTTTCAATGCAAAATCACCTTTAAAATATAAAAGATCACTGTAACAAAGGGACAAAGGGTTTTCACCTAACCCATGCATGAGATATGATGGTCACAAAATATGTTAGGTTTAATATGGAATGAGGGCACAGTACAAACCACTCACAAATAATATCAAACTCCACCACCATCACACATTTTACGTTCTTCCAAGGAAGAGATAAGATAATGAAGCCTCCTCCACGTGTCACTTCCACATGGTACCTAACGATAAGGCTACCATTCAAAATTTTCCTCACTCGTGTGGCCAATATGCTGTAATGTCATCACTTATTCAATCCAACGGTTGTAACTTCTCAGCAACCAATCCCCTCCATTTCACACCATCGGATTAGTACTACACAAATCACACTATTATATATAGTAAGTTTGAGCAGAAGCTTGGATATCTGGCAGCAGAAGAACAAGTAGTTGAGAACTAAGAAGGAGAAGCAA以上序列的值应该为多少\"\n",
    "\n",
    "\n",
    "bg_prompt = \"已知今天的日期是：{}，北京时间。\".format(time.asctime(time.localtime()))\n",
    "#format_prompt = \"并将最终得到的规则们整理成list的形式作为输出。\"\n",
    "format_prompt = \"回答一个数字就可以啦\"\n",
    "\n",
    "\n",
    "res_messages = [\n",
    "    {\"role\": \"system\", \"content\": sys_prompt1},\n",
    "    {\"role\": \"user\", \"content\": \"TTTGGTTATTTAATTTTTAAAATCGATCAATTTTTTGGAAAAAATATTTATTTTGTAACGATTTAAAATTATTTAGTCACGAAATATGCAGTTATATATAATATGTATTTTCTTACCATTTAGACTGAATGATTAAATTGAATCGTTTTAAAAAATTAAAGGAT的值为8734.285179\"},\n",
    "    {\"role\": \"user\", \"content\": \"TATATATATATATATATATATATATATCAGGCATTTTAAAATAATAAAATAAAACGACTCTTAATTATAATGAAGCATCTCTTTGTTAAACCGGATCTTCCATAATTAATGTAAACATTAATGCTTGATGGAAGTTTTTTGTTCTATCCAATACACGAATGGGTTGTAAATATCTATTTTTATCATTTATGGGTTGTAACTATCAATGCAGTAGTAGTTAGTGTAATGATACGATATATTCTATTGTAGTGTATTATTTTATATAACTATATTCCATTTTAATGTTGGAAATTAAAGACATATGGTTTTATCTCTTGGCAACGAGTCAGAATATATATAATAAAGATAAAATTAGGTCGTAATAATTTTTTTATAATAAATATTTATATACAGTTTCAAGATTTTATTATATTTGTTTGCAAAATTCCCATATAATTGTTTAAGTTTTAAAATTTTCATAATAAATGTTTAAGTTTTCTAAATTCATCCTTATTTGTGAGTAGGGATAAAAATAAGACTAAACCAAACACGACTTTGCTTTAAAAGTCTGGTTTTACCAATCAACCTATTTAAAAAATCTAAAGCACAAGCCAAACCATTTATCTATCACAAGCTTCTTTTTTGGGTTTGTCATGACCGCTTTGAGAGCCTAATTTGAACAAATACTCTATTTAAAAGTTTATTTTAGATTAAAGTTTTGATATAAACTTGACATAACTCTAAAATAGGGTAATCACCGAATAAGTCGATGAGAAAAACTTTATGTAAAATAAATTATAAACTATAAAATTTGTAATCACTACTACTCAAGAGTCAAGACATGAGGTAGAGGTGGAAATAAGCACACTGAGTTTTATTAGAATTAAATGTGTTTATATAATCTAAGCCCATTTTTAGGTCTAATAAGACTCATTTCTTTTATAGGACTAATATGACTATCATGATTATTTATTTAAAAGTCTATTTTACAATAAAGATTTTAATTAAGACAAAATTATTTTTCAATGGCTCAACTTTATATGTAGGTTAACATATTTAATATTTTTTATAAAAAATACGTAGTTTTTTTAAATAAAAATAAATATGTAATTTTATGGTATTATAAAAAAATAAAATTTAATATAATAATAACAACAAAAAATATTAAATATATTTACTTAAATAGGTTGAGCTATTAGGTATAAAAGATTTTTCAAATGTCCTAAAGCTTGACATGCATTTTTAATCAAATTGATTTTTATAAAAACTTTCACCTAATTTATTTATAAAAAAAAAAAAACATCTGGCTTGACCTGTGCTCAGTTAGGCTAGGTCGTAAGTCCTCTCTCGAGCGTCTGATGTATTCTTACCTTATTTGTGAAGAACATAATAAAACTTAATTTTTCAAAACGAAAGGAATAACAATGCTATATATATAATTTACTATTAAATAAAATTTTAAATAATTATCATCCTAATGATGAAACTATTTTTAGGCCAACAATGAATGAGATTAATCTCTGATTCAACGGGTTAAGAAATAATAGTGGTCTTTAATCAGAAAAAAATAACATTTTAAAGGTAACATATAATTGTACTTTTTAATGAATTAAAACTTCAGACATTTTTAAATAATATAATAAAACAACTCTTAATTTTAATGAAGCATCCCTTTGTTAAACCAAATCTTCCATAATGTGAACATTAATGCTTGATGGAAGTTTTTGTTCTATCCAATACACAATGAGTTGTAAATATTTTTTTAATAACATTTATGGGTTGTAAATATGAATGCAGTAGTAATTAGTTTAATGATAAAATATATTCTACTGTATTATTTTCTGTAACTATATTCCATTTTAATGTTTGAAAGACAGATATATTTCCATATATATCTCTTGGCAACTCCTCAGAATATATTATAAAGATGAAAGGTCGTTATAATTTTTTTTAGAATAAATATTTATATACAGTTTCCTAGATTTCGTTATAAAATTCACATATTGAATGAGTATAAATAC的值为7546.179791\"},\n",
    "    {\"role\": \"user\", \"content\": 'CGTATCGATCGCACAAAAACAAAATAATGTAAAATTTGATACAAAGGGTAGAAGACTCCCTTGTATTCTCTTATATTGGTGGCTGCTATAGTTGGACATTAAAAATACAATAAAGTAATGTTTGGATTTTTTTCCTCTTTTGACTTTTCTTTTTATAATTGTCTTTACTGGTACGTTGATTGTAATTTACATTTTGCACTCATATGTAAAACTAAAAGTCATTTTGTCAGTTTTTAAGAGTTTTTTTACTGAATTTTTCTTTTATAATTTTCAATAAAAAAGCTCAAAAACACTTATATCTTATATCCGAACATACCCTTGATTTCCTTGCTACTAATAATACACTTGGAAGCAAATTGCAGTTTAGGCAACTTTGGAGAAGTTGAAAGTGGTTAGAAAGTGGAGAGCCTCATAGAGCTTGCTAGCGGCCAAGGTGGCACAAGAGTGGGGGGAGATTAACTCGTTTTCGTATGAGATGAAAATATGGACCAATGTGGTGTCACTGAGAAGGGGAAAACAATTTCTACCCTGTTAAACCCAGGAGATTGACTCAGAAAATTAAATACTTGCAAGATATAGAGCTAGCTTTTATTGTTCCATAAGAACCATATATGACTTTATCCTAAAAACCACAACGTCTTCAAATTTCCAAAGCCAAACCATTGAAAGCATGAGAAGCCAATCCAGTCTTAATCGGCTAAACCACAAAGGCCACGGTTGTCTTGCATGCACCACACGAAATTGCCTTTTTAAATCTTCAAAAAACAATTGTGTAATTTTATATGATTTACGTAGATTATTTTAGTTATAAGTTAGGAAAATATTTTAAGTTTTTTTATAACAAGTGTTAAGAACATTGATTTAGAAAAAAAAAATATTAAAGAAAAGAAAGCATTTCATTTATAAAGTCATCCAGAAACAAATAAATGATTTATCAATACAAATAAATTGTTGAATTAGTTAATTTAAATTAAAAATATTATGATTTTAATTTTATTCTAGAAATATTGACAAAATTAAATGTTTAAAATTATTGTTATATTTAATGGCATTACTTATAATTCAAAAAATATTTTTTACACAAACAGATATAATTTATATCATCAATAAAACAATGAATAAATACACTTGCATGAAAAATATTGAGTAAGTATTTCGTTAATAAGACAATATATTAAATGAAAATGAAAATTAGCAATTAATATTTTTAAAATGAATCTATATTTTTATATGAAGATTAAAAAATACACTCATATATATGCCATAAGAACCAACAAAAGTACTATTTAAGAAAAGAAAAAAAAAAACCTGCTACATAATTTCCAATCTTGTAGATTTATTTCTTTTATTTTTATAAAGGAGAGTTAAAAAAATTACAAAATAAAAATAGTGAACATCGTCTAAGCATTTTTATATAAGATGAATTTTAAAAATATAATTTTTTTGTCTAAATCGTATGTATCTTGTCTTAGAGCCATTTTTGTTTAAATTGGATAAGATCACACTATAAAGTTCTTCCTCCGAGTTTGATATAAAAAAAATTGTTTCCCTTTTGATTATTGGATAAAATCTCGTAGTGACATTATATTAAAAAAATTAGGGCTCAATTTTTATTAGTATAGTTTGCATAAATTTTAACTTAAAAATAGAGAAAATCTGGAAAAGGGACTGTTAAAAAGTGTGATATTAGAAATTTGTCGGATATATTAATATTTTATTTTATATGGAAACTAAAAAAATATATATTAAAATTTTAAATTCAGAATAATACTTAAATTATTTATTTACTGAAAATGAGTTGATTTAAGTTTTTGAAAAGATGATTGTCTCTTCACCATACCAATTGATCACCCTCCTCCAACAAGCCAAGAGAGACATAAGTTTTATTAGTTATTCTGATCACTCTTCAAGCCTTCTATATAAATAAGTATTGGATGTGAAGTTGTTGCATAACTTGCATTGAACAATTAATAGAAATAACAGAAAAGTAGAAAAGAAAT的值为7405.685612'},\n",
    "    {\"role\": \"user\", \"content\": query_prompt+format_prompt}\n",
    "]"
   ]
  },
  {
   "cell_type": "code",
   "execution_count": null,
   "metadata": {},
   "outputs": [],
   "source": [
    "with open('new_rules.txt','r') as f:\n",
    "    context_list = f.readlines()"
   ]
  },
  {
   "cell_type": "code",
   "execution_count": null,
   "metadata": {},
   "outputs": [],
   "source": [
    "with open('food.txt','r') as f:\n",
    "    food_list = f.readlines()"
   ]
  },
  {
   "cell_type": "code",
   "execution_count": null,
   "metadata": {},
   "outputs": [],
   "source": [
    "llm_response = message_to_response_via_LLM(model_32Bn, tokenizer_32Bn, ['早上好'], max_new_tokens=1000)"
   ]
  },
  {
   "cell_type": "code",
   "execution_count": null,
   "metadata": {},
   "outputs": [],
   "source": [
    "\n",
    "query_prompt = input()#\"我吃的是咖喱饭\"\n",
    "print('患者：')\n",
    "print(query_prompt)\n",
    "print('医生：')\n",
    "\n",
    "bg_prompt = \"已知今天的日期是：{}，北京时间。\".format(time.asctime(time.localtime()))\n",
    "format_prompt = \"以500千卡为标准判断饮食是否热量超标，如果超标了，就说‘您的饮食热量过高’，并根据食材list给糖尿病患者提一些搭配建议，并给一些具体的搭配例子\"\n",
    "\n",
    "\n",
    "res_messages = [\n",
    "    {\"role\": \"system\", \"content\": sys_prompt1},\n",
    "    {\"role\": \"user\", \"content\": \"给定一组食材list：\" +''.join(food_list)}, #+str(context_list)\n",
    "    {\"role\": \"user\", \"content\": query_prompt+format_prompt}\n",
    "]\n",
    "llm_response = message_to_response_via_LLM(model_32Bn, tokenizer_32Bn, res_messages, max_new_tokens=1000)"
   ]
  },
  {
   "cell_type": "code",
   "execution_count": null,
   "metadata": {},
   "outputs": [],
   "source": [
    "llm_response = ''\n",
    "format_prompt = \"请根据以上医学标准list，回答患者的问题\"\n",
    "format_prompt = \"\"\n",
    "assistant_an = ''\n",
    "res_messages = [\n",
    "    {\"role\": \"system\", \"content\": sys_prompt1+',尽量简洁的回复对方，如果对方的给出的信息，不足给出建议要对对方进行提问,然后再给予回答'},\n",
    "    #{\"role\": \"user\", \"content\": \"给定一组医学知识list：\"+str(context_list)+' 如果问到和血糖相关的问题，请根据规则list给出相应的参考医学知识，不要和前几轮对话输出类似的内容保持多样性'},#不要重复回答问题\n",
    "    {\"role\": \"user\", \"content\": \"给定一组医学标准list：\"+str(context_list)},#不要重复回答问题\n",
    "    {\"role\": \"user\", \"content\": \"我的血糖是9mol/L，请问有问题不哈\"},\n",
    "    {\"role\": \"assistant\", \"content\": '你现在是餐前还是餐后哈'},\n",
    "    {\"role\": \"user\", \"content\": \"餐后\"},\n",
    "    {\"role\": \"assistant\", \"content\": '根据\"餐后血糖应控制在10.0mmol/L以下\"这个标准，您的血糖是没有问题的'},\n",
    "    {\"role\": \"user\", \"content\": \"好的，谢谢医生，改天见\"},\n",
    "    {\"role\": \"assistant\", \"content\": '好的，拜拜，祝您生活愉快'},\n",
    "    #{\"role\": \"user\", \"content\": \"给定一个规则模版库：\"+str(rule_templates)},\n",
    "    #{\"role\": \"user\", \"content\": query_prompt+format_prompt}\n",
    "]\n",
    "while True:\n",
    "    query_prompt = input()\n",
    "    print(f'\\n患者：{query_prompt}')\n",
    "    #format_prompt = \"并将最终得到的规则们整理成list的形式作为输出。\"\n",
    "    res_messages.append({\"role\": \"assistant\", \"content\": llm_response})\n",
    "    res_messages.append({\"role\": \"user\", \"content\": query_prompt+format_prompt}) #+format_prompt\n",
    "    print('医生：')\n",
    "    llm_response = message_to_response_via_LLM(model_32Bn, tokenizer_32Bn, res_messages, max_new_tokens=1000)"
   ]
  },
  {
   "cell_type": "code",
   "execution_count": null,
   "metadata": {},
   "outputs": [],
   "source": [
    "res_messages = [\n",
    "    {\"role\": \"system\", \"content\": sys_prompt1},\n",
    "    {\"role\": \"user\", \"content\": \"给定一组规则list：\"+str(context_list)},\n",
    "    #{\"role\": \"assistant\", \"content\": assistant_an},\n",
    "    #{\"role\": \"user\", \"content\": \"给定一组规则list：\"+chat_str},\n",
    "    #{\"role\": \"user\", \"content\": \"给定一个规则模版库：\"+str(rule_templates)},\n",
    "    #{\"role\": \"user\", \"content\": query_prompt+format_prompt}\n",
    "]\n",
    "\n",
    "query_prompt = ''\n",
    "print(f'患者：{query_prompt}')\n",
    "#format_prompt = \"并将最终得到的规则们整理成list的形式作为输出。\"\n",
    "res_messages.append({\"role\": \"assistant\", \"content\": llm_response})\n",
    "res_messages.append({\"role\": \"user\", \"content\": query_prompt+format_prompt})\n",
    "print(res_messages)\n",
    "llm_response = message_to_response_via_LLM(model_32Bn, tokenizer_32Bn, res_messages, max_new_tokens=1000)"
   ]
  },
  {
   "cell_type": "code",
   "execution_count": null,
   "metadata": {},
   "outputs": [],
   "source": [
    "llm_response = ''\n",
    "format_prompt = \"请根据以上规则list，请给出对应简短有效的解决方案（细致一些，在3-10条之内），并给出对应的参考规则，同时将其用V1，V2，V3按顺序标号\"\n",
    "assistant_an = ''\n",
    "res_messages = [\n",
    "    {\"role\": \"system\", \"content\": sys_prompt1},\n",
    "    #{\"role\": \"user\", \"content\": \"给定一组医学知识list：\"+str(context_list)+' 如果问到和血糖相关的问题，请根据规则list给出相应的参考医学知识，不要和前几轮对话输出类似的内容保持多样性'},#不要重复回答问题\n",
    "    {\"role\": \"user\", \"content\": \"给定一组医学知识list：\"+str(context_list)},#不要重复回答问题\n",
    "    #{\"role\": \"user\", \"content\": \"给定一个规则模版库：\"+str(rule_templates)},\n",
    "    #{\"role\": \"user\", \"content\": query_prompt+format_prompt}\n",
    "]\n",
    "#while True:\n",
    "query_prompt = '我的血糖不稳定，应该如何运动'\n",
    "print(f'\\n患者：{query_prompt}')\n",
    "#format_prompt = \"并将最终得到的规则们整理成list的形式作为输出。\"\n",
    "res_messages.append({\"role\": \"assistant\", \"content\": llm_response})\n",
    "res_messages.append({\"role\": \"user\", \"content\": query_prompt+format_prompt}) #+format_prompt\n",
    "print('医生：')\n",
    "llm_response = message_to_response_via_LLM(model_32Bn, tokenizer_32Bn, res_messages, max_new_tokens=1000) "
   ]
  },
  {
   "cell_type": "code",
   "execution_count": null,
   "metadata": {},
   "outputs": [],
   "source": [
    "\n",
    "query_prompt = \"我的血糖低了怎么办\"#\"我吃的是咖喱饭\"\n",
    "print('患者：')\n",
    "print(query_prompt)\n",
    "print('医生：')\n",
    "\n",
    "bg_prompt = \"已知今天的日期是：{}，北京时间。\".format(time.asctime(time.localtime()))\n",
    "format_prompt = \"并根据以上格式，给出简洁的建议，并将参考规则以V1、V2、V3进行排序附在全部回答的最后面\"\n",
    "\n",
    "\n",
    "res_messages = [\n",
    "    {\"role\": \"system\", \"content\": sys_prompt1},\n",
    "    {\"role\": \"user\", \"content\": '我的血糖高了怎么办'},\n",
    "    {\"assitant\": \"user\", \"content\": '1. 监测血糖：\\n持续监测餐前餐后血糖，如有不合理的地方及时调整饮食方案。\\n每日应至少完成早、中、晚各一次餐前后的血糖配对测量和一次睡前血糖的测量。2.饮食控制：\\n饮食中应包含足够的蔬菜和蛋白质，避免食用油炸食品和高糖食品。\\n主食多样化，粗粮和细粮1:1搭配，有助于血糖控制。\\n每餐主食的量应该控制在2两以内，避免因主食过量造成的大波动。\\n餐前餐后血糖值差值波动较大时，建议放慢吃饭速度，增加膳食纤维的食材，注意吃饭顺序，餐后1小时左右运动20-30分钟。\\n3.运动:\\n患者应每周至少进行150分钟的中等强度运动，或90分钟的高强度运动。\\n运动可以增加胰岛素的敏感性，有利于餐后血糖控制。\\n\\n参考规则：\\nV1:持续监测餐前餐后血糖，如有不合理地方及时调整饮食方案\\nV2:每日应至少完成早、中、晚各一次餐前后的血糖配对测量和一次睡前血糖的测量\\nV3:饮食中应包含足够的蔬菜和蛋白质\" 和 \"避免食用油炸食品和高糖食品\\nV4:主食多样化，粗粮和细粮1:1搭配，有助于血糖控制\\nV5:每餐主食的量应该控制在2两以内，避免因主食过量造成的大波动\\nV6:患者应每周至少进行150分钟的中等强度运动，或90分钟的高强度运动。\\nV7:运动可以增加胰岛素的敏感性，有利于餐后血糖控制'},\n",
    "    {\"role\": \"user\", \"content\": \"给定一组食材list：\" + str(context_list)}, #+str(context_list)\n",
    "    {\"role\": \"user\", \"content\": query_prompt+format_prompt}\n",
    "]\n",
    "llm_response = message_to_response_via_LLM(model_32Bn, tokenizer_32Bn, res_messages, max_new_tokens=1000)"
   ]
  },
  {
   "cell_type": "code",
   "execution_count": null,
   "metadata": {},
   "outputs": [],
   "source": [
    "'1. 监测血糖：\\n持续监测餐前餐后血糖，如有不合理的地方及时调整饮食方案。\\n每日应至少完成早、中、晚各一次餐前后的血糖配对测量和一次睡前血糖的测量。2.饮食控制：\\n饮食中应包含足够的蔬菜和蛋白质，避免食用油炸食品和高糖食品。\\n主食多样化，粗粮和细粮1:1搭配，有助于血糖控制。\\n每餐主食的量应该控制在2两以内，避免因主食过量造成的大波动。\\n餐前餐后血糖值差值波动较大时，建议放慢吃饭速度，增加膳食纤维的食材，注意吃饭顺序，餐后1小时左右运动20-30分钟。\\n3.运动:\\n患者应每周至少进行150分钟的中等强度运动，或90分钟的高强度运动。\\n运动可以增加胰岛素的敏感性，有利于餐后血糖控制。\\n\\n参考规则：\\nV1:持续监测餐前餐后血糖，如有不合理地方及时调整饮食方案\\nV2:每日应至少完成早、中、晚各一次餐前后的血糖配对测量和一次睡前血糖的测量\\nV3:饮食中应包含足够的蔬菜和蛋白质\" 和 \"避免食用油炸食品和高糖食品\\nV4:主食多样化，粗粮和细粮1:1搭配，有助于血糖控制\\nV5:每餐主食的量应该控制在2两以内，避免因主食过量造成的大波动\\nV6:患者应每周至少进行150分钟的中等强度运动，或90分钟的高强度运动。\\nV7:运动可以增加胰岛素的敏感性，有利于餐后血糖控制'"
   ]
  },
  {
   "cell_type": "code",
   "execution_count": null,
   "metadata": {},
   "outputs": [],
   "source": [
    "query_prompt = \"我的血糖高了怎么办\"#\"我吃的是咖喱饭\"\n",
    "print('患者：')\n",
    "print(query_prompt)\n",
    "print('医生：')\n",
    "\n",
    "bg_prompt = \"已知今天的日期是：{}，北京时间。\".format(time.asctime(time.localtime()))\n",
    "format_prompt = \"并根据以上格式，给出简洁的建议，并将参考规则以V1、V2、V3进行排序附在全部回答的最后面，同时每条建议后面写上V1、V2、V3\"\n",
    "\n",
    "\n",
    "res_messages = [\n",
    "    {\"role\": \"system\", \"content\": sys_prompt1},\n",
    "    {\"role\": \"user\", \"content\": '我的血糖低怎么办'},\n",
    "    {\"assitant\": \"user\", \"content\": '当您的血糖低了（通常指血糖低于3.9mmol/L），您可以采取以下措施：1. **立即补充快速提升血糖的食物**：如含糖饮料、糖果、蜂蜜或白砂糖等，大约15g左右的糖分。例如，可以吃2-3片葡萄糖片或一勺蜂蜜(V1)。\\n2. **等待15分钟**：在摄入糖分后，等待15分钟，再次测量血糖，看是否已经恢复到正常范围(V1)。\\n3. **如果血糖仍未恢复**：再次摄入15g左右的糖分，并继续监测血糖直到恢复正常(V1)。\\n4. **恢复正常后，考虑摄入一些蛋白质和复合碳水化合物**：如一小份坚果和一片全麦面包，以帮助维持血糖水平(V1)。\\n\\n**注意事项**：\\n- 如果您经常出现低血糖，应与医生讨论可能需要调整药物剂量或改变饮食习惯(V2)。\\n- 保持与医生的定期联系，及时反馈血糖监测结果和身体状况(V3)。\\n\\n**参考规则**：\\nV1: 出现低血糖后，尽量优先选择糖分高、好吸收的食物，如一勺白砂糖、一勺蜂蜜或者沏到水里喝，如果家里有方糖或葡萄糖片的话，可以吃2-3片，大约15g左右，过15分钟后在复测一下血糖\\nV2: 患者应保持与医生的定期联系，及时反馈血糖监测结果和身体状况\\nV3: 餐后血糖高于20.0mmol/L时，需重新评估饮食和药物治疗方案'},\n",
    "    {\"role\": \"user\", \"content\": \"给定一组食材list：\" + str(context_list)}, #+str(context_list)\n",
    "    {\"role\": \"user\", \"content\": query_prompt+format_prompt}\n",
    "]\n",
    "llm_response = message_to_response_via_LLM(model_32Bn, tokenizer_32Bn, res_messages, max_new_tokens=1000)"
   ]
  },
  {
   "cell_type": "code",
   "execution_count": null,
   "metadata": {},
   "outputs": [],
   "source": [
    "'当您的血糖低了（通常指血糖低于3.9mmol/L），您可以采取以下措施：1. **立即补充快速提升血糖的食物**：如含糖饮料、糖果、蜂蜜或白砂糖等，大约15g左右的糖分。例如，可以吃2-3片葡萄糖片或一勺蜂蜜(V1)。\\n2. **等待15分钟**：在摄入糖分后，等待15分钟，再次测量血糖，看是否已经恢复到正常范围(V1)。\\n3. **如果血糖仍未恢复**：再次摄入15g左右的糖分，并继续监测血糖直到恢复正常(V1)。\\n4. **恢复正常后，考虑摄入一些蛋白质和复合碳水化合物**：如一小份坚果和一片全麦面包，以帮助维持血糖水平(V1)。\\n\\n**注意事项**：\\n- 如果您经常出现低血糖，应与医生讨论可能需要调整药物剂量或改变饮食习惯(V2)。\\n- 保持与医生的定期联系，及时反馈血糖监测结果和身体状况(V3)。\\n\\n**参考规则**：\\nV1: 出现低血糖后，尽量优先选择糖分高、好吸收的食物，如一勺白砂糖、一勺蜂蜜或者沏到水里喝，如果家里有方糖或葡萄糖片的话，可以吃2-3片，大约15g左右，过15分钟后在复测一下血糖\\nV2: 患者应保持与医生的定期联系，及时反馈血糖监测结果和身体状况\\nV3: 餐后血糖高于20.0mmol/L时，需重新评估饮食和药物治疗方案' \n"
   ]
  },
  {
   "cell_type": "code",
   "execution_count": null,
   "metadata": {},
   "outputs": [],
   "source": [
    "# 使用内置的 open() 函数来读取文件\n",
    "file_path = 'rules.txt'  # 替换为你的记事本文件路径\n",
    "\n",
    "with open(file_path, 'r', encoding='utf-8') as file:\n",
    "    content_list = file.readlines()"
   ]
  },
  {
   "cell_type": "code",
   "execution_count": null,
   "metadata": {},
   "outputs": [],
   "source": [
    "content_list = [ele.strip() for ele in content_list if len(ele) > 3]"
   ]
  },
  {
   "cell_type": "code",
   "execution_count": null,
   "metadata": {},
   "outputs": [],
   "source": []
  }
 ],
 "metadata": {
  "kernelspec": {
   "display_name": "Python 3",
   "language": "python",
   "name": "python3"
  },
  "language_info": {
   "codemirror_mode": {
    "name": "ipython",
    "version": 3
   },
   "file_extension": ".py",
   "mimetype": "text/x-python",
   "name": "python",
   "nbconvert_exporter": "python",
   "pygments_lexer": "ipython3",
   "version": "3.10.0"
  }
 },
 "nbformat": 4,
 "nbformat_minor": 2
}
